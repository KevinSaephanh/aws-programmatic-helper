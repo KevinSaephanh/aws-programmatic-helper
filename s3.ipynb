{
 "cells": [
  {
   "cell_type": "markdown",
   "metadata": {},
   "source": [
    "List and Create S3 Buckets "
   ]
  },
  {
   "cell_type": "code",
   "execution_count": null,
   "metadata": {},
   "outputs": [],
   "source": [
    "import boto3\n",
    "\n",
    "s3 = boto3.client(\"s3\")"
   ]
  },
  {
   "cell_type": "code",
   "execution_count": null,
   "metadata": {},
   "outputs": [],
   "source": [
    "response = s3.list_buckets()"
   ]
  },
  {
   "cell_type": "code",
   "execution_count": null,
   "metadata": {},
   "outputs": [],
   "source": [
    "def create_bucket(bucket_name):\n",
    "    s3.create_bucket(Bucket=bucket_name)\n",
    "    print(\"S3 bucket created!\")\n",
    "\n",
    "bucket_name = \"kev-ml-test-bucket\"\n",
    "create_bucket(bucket_name)"
   ]
  },
  {
   "cell_type": "markdown",
   "metadata": {},
   "source": [
    "Upload a File to S3"
   ]
  },
  {
   "cell_type": "code",
   "execution_count": null,
   "metadata": {},
   "outputs": [],
   "source": [
    "import os\n",
    "\n",
    "def upload(file_path, object_name=None):\n",
    "    if object_name is None or object_name == \"\":\n",
    "        object_name = os.path.basename(file_path)\n",
    "    s3.upload_file(file_path, bucket_name, object_name)\n",
    "\n",
    "upload(\"data/index.html\", \"index.html\")"
   ]
  },
  {
   "cell_type": "markdown",
   "metadata": {},
   "source": [
    "List Objects in S3 Bucket"
   ]
  },
  {
   "cell_type": "code",
   "execution_count": null,
   "metadata": {},
   "outputs": [],
   "source": [
    "def list_objects():\n",
    "    response = s3.list_objects_v2(Bucket=bucket_name)\n",
    "    for obj in response[\"Contents\"]:\n",
    "        print(obj)\n",
    "\n",
    "list_objects()"
   ]
  },
  {
   "cell_type": "markdown",
   "metadata": {},
   "source": [
    "Download S3 File to Local"
   ]
  },
  {
   "cell_type": "code",
   "execution_count": null,
   "metadata": {},
   "outputs": [],
   "source": [
    "def download_file(object_name, file_path):\n",
    "    if not os.path.exists(os.path.dirname(file_path)):\n",
    "        os.makedirs(os.path.dirname(file_path))\n",
    "    s3.download_file(bucket_name, object_name, file_path)\n",
    "\n",
    "download_file(\"index.html\", \"downloads/index.html\")"
   ]
  },
  {
   "cell_type": "markdown",
   "metadata": {},
   "source": [
    "Upload Directory to S3"
   ]
  },
  {
   "cell_type": "code",
   "execution_count": null,
   "metadata": {},
   "outputs": [],
   "source": [
    "def upload_directory(dir_path, s3_prefix):\n",
    "    for root, dirs, files in os.walk(\"data\"):\n",
    "        for file in files:\n",
    "            file_path = os.path.join(root, file).replace(\"\\\\\", \"/\")\n",
    "            relpath = os.path.relpath(file_path, dir_path)\n",
    "            s3_key = os.path.join(s3_prefix, relpath).replace(\"\\\\\", \"/\")\n",
    "            s3.upload_file(file_path, bucket_name, s3_key)\n",
    "\n",
    "upload_directory(\"data\", \"s3_data\")"
   ]
  },
  {
   "cell_type": "markdown",
   "metadata": {},
   "source": [
    "Download S3 Directory to Local"
   ]
  },
  {
   "cell_type": "code",
   "execution_count": null,
   "metadata": {},
   "outputs": [],
   "source": [
    "local_path = \"s3_downloads\"\n",
    "s3_prefix = \"s3_data\"\n",
    "\n",
    "def download_dir(local_path, s3_prefix):\n",
    "    os.makedirs(local_path, exist_ok=True)\n",
    "    paginator = s3.get_paginator(\"list_objects_v2\")\n",
    "    \n",
    "    for result in paginator.paginate(Bucket=bucket_name, Prefix=s3_prefix):\n",
    "        if \"Contents\" in result.keys():\n",
    "            for key in result[\"Contents\"]:\n",
    "                s3_key = key[\"Key\"]\n",
    "                local_file = os.path.join(local_path, os.path.relpath(s3_key, s3_prefix))\n",
    "                s3.download_file(bucket_name, s3_key, local_file)\n",
    "\n",
    "download_dir(local_path, s3_prefix)"
   ]
  },
  {
   "cell_type": "markdown",
   "metadata": {},
   "source": [
    "Delete All Files in S3 Bucket"
   ]
  },
  {
   "cell_type": "code",
   "execution_count": null,
   "metadata": {},
   "outputs": [],
   "source": [
    "def delete_objects():\n",
    "    response = s3.list_objects_v2(Bucket=bucket_name)\n",
    "    if \"Contents\" in response.keys():\n",
    "        for obj in response[\"Contents\"]:\n",
    "            s3.delete_object(Bucket=bucket_name, Key=obj[\"Key\"])\n",
    "        print(\"Files deleted\")\n",
    "\n",
    "delete_objects()"
   ]
  },
  {
   "cell_type": "markdown",
   "metadata": {},
   "source": [
    "Delete S3 Bucket"
   ]
  },
  {
   "cell_type": "code",
   "execution_count": null,
   "metadata": {},
   "outputs": [],
   "source": [
    "s3.delete_bucket(Bucket=bucket_name)"
   ]
  }
 ],
 "metadata": {
  "kernelspec": {
   "display_name": "3.12.4",
   "language": "python",
   "name": "python3"
  },
  "language_info": {
   "codemirror_mode": {
    "name": "ipython",
    "version": 3
   },
   "file_extension": ".py",
   "mimetype": "text/x-python",
   "name": "python",
   "nbconvert_exporter": "python",
   "pygments_lexer": "ipython3",
   "version": "3.12.4"
  }
 },
 "nbformat": 4,
 "nbformat_minor": 2
}
