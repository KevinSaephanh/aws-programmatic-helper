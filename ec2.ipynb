{
 "cells": [
  {
   "cell_type": "markdown",
   "id": "7735804b",
   "metadata": {},
   "source": [
    "Create KeyPair"
   ]
  },
  {
   "cell_type": "code",
   "execution_count": null,
   "id": "c1a32946-7338-4c67-ab33-5dfd63435101",
   "metadata": {},
   "outputs": [],
   "source": [
    "import boto3"
   ]
  },
  {
   "cell_type": "code",
   "execution_count": null,
   "id": "69e68d89-84b3-481d-a472-445996259f8f",
   "metadata": {},
   "outputs": [],
   "source": [
    "ec2 = boto3.client('ec2')\n",
    "ec2.describe_instances()"
   ]
  },
  {
   "cell_type": "code",
   "execution_count": null,
   "id": "7ffbbc1a-8f88-4a61-b47e-04b46f13525c",
   "metadata": {},
   "outputs": [],
   "source": [
    "resp = ec2.create_key_pair(KeyName=\"kev-ml\")"
   ]
  },
  {
   "cell_type": "code",
   "execution_count": null,
   "id": "173808a2-cf66-4d0c-9492-a9590627bca7",
   "metadata": {},
   "outputs": [],
   "source": [
    "file = open(\"creds/kev-ml.pem\", \"w\")\n",
    "file.write(resp[\"KeyMaterial\"])\n",
    "file.close()"
   ]
  },
  {
   "cell_type": "markdown",
   "id": "487c956a",
   "metadata": {},
   "source": [
    "Programmatically Create EC2 Instance"
   ]
  },
  {
   "cell_type": "code",
   "execution_count": null,
   "id": "874e47a1-4c13-4ef3-9ad9-d7608491bbd2",
   "metadata": {},
   "outputs": [],
   "source": [
    "# Info found in EC2 launch page\n",
    "response = ec2.run_instances(\n",
    "    ImageId = \"ami-01816d07b1128cd2d\",\n",
    "    Name = \"kev-ml\",\n",
    "    MinCount = 1,\n",
    "    MaxCount = 1,\n",
    "    InstanceType = \"t2.micro\",\n",
    "    KeyName = \"kev-ml\",\n",
    "    BlockDeviceMappings = [\n",
    "        {\n",
    "            \"DeviceName\": \"/dev/xvda\",\n",
    "            \"Ebs\": {\n",
    "                \"DeleteOnTermination\": True,\n",
    "                \"VolumeSize\": 20\n",
    "            }\n",
    "        }\n",
    "    ]\n",
    ")"
   ]
  },
  {
   "cell_type": "code",
   "execution_count": null,
   "id": "c17f2556",
   "metadata": {},
   "outputs": [],
   "source": [
    "response"
   ]
  },
  {
   "cell_type": "markdown",
   "id": "a2409b39",
   "metadata": {},
   "source": [
    "Programmatically Create Security Groups"
   ]
  },
  {
   "cell_type": "code",
   "execution_count": null,
   "id": "7c6576f7",
   "metadata": {},
   "outputs": [],
   "source": [
    "response = ec2.describe_security_groups()\n",
    "\n",
    "response = ec2.create_security_group(\n",
    "    GroupName = \"kev-ml\",\n",
    "    Description = \"Security group for testing\"\n",
    ")"
   ]
  },
  {
   "cell_type": "code",
   "execution_count": null,
   "id": "7db938e1",
   "metadata": {},
   "outputs": [],
   "source": [
    "security_group_id = response[\"GroupId\"]\n",
    "security_group_id"
   ]
  },
  {
   "cell_type": "code",
   "execution_count": null,
   "id": "415f6460",
   "metadata": {},
   "outputs": [],
   "source": [
    "# ip, port, traffic type\n",
    "response = ec2.authorize_security_group_ingress(\n",
    "    GroupId = security_group_id,\n",
    "    IpPermissions = [\n",
    "        {\n",
    "            \"IpProtocol\": \"tcp\",\n",
    "            \"FromPort\": 22,\n",
    "            \"ToPort\": 22,\n",
    "            \"IpRanges\": [{\"CidrIp\": \"0.0.0.0/0\"}]\n",
    "        },\n",
    "        {\n",
    "            \"IpProtocol\": \"tcp\",\n",
    "            \"FromPort\": 80,\n",
    "            \"ToPort\": 80,\n",
    "            \"IpRanges\": [{\"CidrIp\": \"0.0.0.0/0\"}]\n",
    "        }\n",
    "    ]\n",
    ")"
   ]
  },
  {
   "cell_type": "code",
   "execution_count": null,
   "id": "a139099b",
   "metadata": {},
   "outputs": [],
   "source": [
    "response = ec2.describe_instances()\n",
    "instance_id = response[\"Reservations\"][0][\"Instances\"][0][\"InstanceId\"]\n",
    "instance_id, security_group_id"
   ]
  },
  {
   "cell_type": "code",
   "execution_count": null,
   "id": "9f3c713b",
   "metadata": {},
   "outputs": [],
   "source": [
    "sg_gid = response[\"Reservations\"][0][\"Instances\"][0][\"SecurityGroups\"][0][\"GroupId\"]\n"
   ]
  },
  {
   "cell_type": "code",
   "execution_count": null,
   "id": "65f920b4",
   "metadata": {},
   "outputs": [],
   "source": [
    "ec2.modify_instance_attribute(InstanceId=instance_id, Groups=[security_group_id])"
   ]
  },
  {
   "cell_type": "markdown",
   "id": "ffb2d831",
   "metadata": {},
   "source": [
    "Programmatically Start, Stop, and Delete EC2 Instances"
   ]
  },
  {
   "cell_type": "code",
   "execution_count": null,
   "id": "e7c3db33",
   "metadata": {},
   "outputs": [],
   "source": [
    "response = ec2.describe_instances(InstanceIds=[instance_id])\n",
    "response"
   ]
  },
  {
   "cell_type": "code",
   "execution_count": null,
   "id": "0015a668",
   "metadata": {},
   "outputs": [],
   "source": [
    "# status -> running, stopped, termianted, pending, etc.\n",
    "\n",
    "import time\n",
    "\n",
    "def wait_for_status(instance_id, target_status):\n",
    "    while True:\n",
    "        response = ec2.describe_instances(InstanceIds=[instance_id])\n",
    "        status = response[\"Reservations\"][0][\"Instances\"][0][\"State\"][\"Name\"]\n",
    "\n",
    "        if status == target_status:\n",
    "            print(f\"status is in {target_status} state\")\n",
    "            break\n",
    "\n",
    "        time.sleep(10)\n"
   ]
  },
  {
   "cell_type": "code",
   "execution_count": null,
   "id": "506e5746",
   "metadata": {},
   "outputs": [],
   "source": [
    "def start_instances(instance_id):\n",
    "    ec2.start_instances(InstanceIds=[instance_id])\n",
    "    wait_for_status(instance_id, \"running\")\n",
    "\n",
    "start_instances(instance_id)"
   ]
  },
  {
   "cell_type": "code",
   "execution_count": null,
   "id": "1adaf936",
   "metadata": {},
   "outputs": [],
   "source": [
    "def stop_instances(instance_id):\n",
    "    ec2.stop_instances(InstanceIds=[instance_id])\n",
    "    wait_for_status(instance_id, \"stopped\")\n",
    "\n",
    "stop_instances(instance_id)"
   ]
  },
  {
   "cell_type": "code",
   "execution_count": null,
   "id": "7b0df455",
   "metadata": {},
   "outputs": [],
   "source": [
    "def terminate_instances(instance_id):\n",
    "    ec2.terminate_instances(InstanceIds=[instance_id])\n",
    "    wait_for_status(instance_id, \"terminated\")\n",
    "\n",
    "terminate_instances(instance_id)"
   ]
  }
 ],
 "metadata": {
  "kernelspec": {
   "display_name": "3.12.4",
   "language": "python",
   "name": "python3"
  },
  "language_info": {
   "codemirror_mode": {
    "name": "ipython",
    "version": 3
   },
   "file_extension": ".py",
   "mimetype": "text/x-python",
   "name": "python",
   "nbconvert_exporter": "python",
   "pygments_lexer": "ipython3",
   "version": "3.12.4"
  }
 },
 "nbformat": 4,
 "nbformat_minor": 5
}
